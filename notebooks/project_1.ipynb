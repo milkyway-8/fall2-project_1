{
 "cells": [
  {
   "cell_type": "markdown",
   "id": "efbf3fd3-a719-4163-9e70-d563a0e4eb1f",
   "metadata": {},
   "source": [
    "### Сравнение ресторанов грузинской и итальянской кухни в Санкт-Петербурге"
   ]
  },
  {
   "cell_type": "markdown",
   "id": "04f37294-b3e9-4f25-bdf5-ba05fb8b244e",
   "metadata": {},
   "source": [
    "**Описание**:\n",
    "Анализ отзывов, оценок посетителей на рестораны грузинской и итальянской кухни в СПБ \n",
    "\n",
    "Данные буду брать с сайта Irecommend\n"
   ]
  },
  {
   "cell_type": "code",
   "execution_count": 1,
   "id": "587f8bb0-c7c8-4e91-8381-eed2abb5df33",
   "metadata": {},
   "outputs": [],
   "source": [
    "from selenium import webdriver\n",
    "from selenium_stealth import stealth\n",
    "from selenium.webdriver.chrome.service import Service\n",
    "from webdriver_manager.chrome import ChromeDriverManager\n",
    "import time\n",
    "from bs4 import BeautifulSoup\n",
    "from selenium.webdriver.common.by import By\n",
    "import pandas as pd\n",
    "import seaborn as sns                    \n",
    "import matplotlib.pyplot as plt             \n",
    "%matplotlib inline  \n",
    "from wordcloud import WordCloud\n",
    "from stop_words import get_stop_words\n",
    "import statistics\n",
    "import plotly.express as px\n",
    "from scipy.stats import spearmanr\n",
    "#!pip install streamlit"
   ]
  },
  {
   "cell_type": "markdown",
   "id": "0c7b3f7c-fb64-4373-ab47-a4e3d9d88696",
   "metadata": {},
   "source": [
    "# Загрузка данных"
   ]
  },
  {
   "cell_type": "markdown",
   "id": "e58652b3-6dcc-4786-93cb-fa2980d785ff",
   "metadata": {},
   "source": [
    "В данном разделе выполните выгрузку данных из внешних источников и их локальное сохранение\n",
    "\n",
    "Вы можете вынести всю логику выгрузки в отдельный `.py` скрипт (или набор скриптов), поместив их в директорию `scripts` в корне проекта, но продублируйте весь код здесь тоже, чтобы можно было запустить ноутбук с самого начала"
   ]
  },
  {
   "cell_type": "code",
   "execution_count": null,
   "id": "813daa49-20d1-4a06-bc2c-86bf9cb13fb9",
   "metadata": {},
   "outputs": [],
   "source": [
    "def create_web_driver_stealth() -> webdriver.Chrome:\n",
    "    options = webdriver.ChromeOptions()\n",
    "    options.add_argument(\"start-maximized\")\n",
    "    #options.add_argument(\"--headless\")\n",
    "    options.add_experimental_option(\"excludeSwitches\", [\"enable-automation\"])\n",
    "    options.add_experimental_option('useAutomationExtension', False)\n",
    "\n",
    "    s = Service(ChromeDriverManager().install())\n",
    "    stealth_driver = webdriver.Chrome(service=s, options=options)\n",
    "\n",
    "    stealth(stealth_driver,\n",
    "            languages=[\"en-US\", \"en\"],\n",
    "            vendor=\"Google Inc.\",\n",
    "            platform=\"Win32\",\n",
    "            webgl_vendor=\"Intel Inc.\",\n",
    "            renderer=\"Intel Iris OpenGL Engine\",\n",
    "            fix_hairline=True,\n",
    "            )\n",
    "\n",
    "    return stealth_driver"
   ]
  },
  {
   "cell_type": "code",
   "execution_count": null,
   "id": "3f0bab3e-cad7-46e0-b8e2-a65282bd6f49",
   "metadata": {},
   "outputs": [],
   "source": [
    "def data_collection(base_url):\n",
    "    driver = create_web_driver_stealth()\n",
    "    dictionary={}\n",
    "    url=''\n",
    "    names = []\n",
    "    rating = []\n",
    "    review = []\n",
    "    likes_list = []\n",
    "    dislikes_list = []\n",
    "    for i in range(6):\n",
    "        if i == 0:\n",
    "            url = base_url\n",
    "        else:\n",
    "            url = f'{base_url}?page={i}'\n",
    "            \n",
    "        driver.get(url)\n",
    "        name_restaurants = driver.find_elements(by=By.CLASS_NAME, value=\"title\")\n",
    "        rating_restaurants = driver.find_elements(by=By.CLASS_NAME, value=\"average-rating\")\n",
    "        reviews = driver.find_elements(by=By.CLASS_NAME, value=\"extract\")\n",
    "    \n",
    "        for el in rating_restaurants:  \n",
    "            rating_text = el.text\n",
    "        \n",
    "        \n",
    "        for restaurant in name_restaurants:\n",
    "            names.append(restaurant.text)\n",
    "        for restaurant_rating in rating_restaurants:\n",
    "            rating.append(rating_text)\n",
    "        for restaurant_review in reviews:\n",
    "            review.append(restaurant_review.text)\n",
    "       \n",
    "        likes = driver.find_elements(By.CLASS_NAME, value=\"RecommendRating-like\")\n",
    "        for el in likes:\n",
    "            like_answ = el.text\n",
    "            likes_list.append(like_answ)\n",
    "    \n",
    "        dislikes = driver.find_elements(By.CLASS_NAME, value=\"RecommendRating-dislike\")\n",
    "        for el in dislikes:\n",
    "            dislike_answ = el.text\n",
    "            dislikes_list.append(dislike_answ)\n",
    "    dictionary[\"name\"] = names\n",
    "    dictionary[\"rating\"] = rating\n",
    "    dictionary[\"reviews\"] = review\n",
    "    dictionary[\"likes\"] = likes_list\n",
    "    dictionary[\"dislikes\"] = dislikes_list\n",
    "    return dictionary"
   ]
  },
  {
   "cell_type": "code",
   "execution_count": null,
   "id": "05763f0e-d229-4eca-9e43-1c5ae86da45c",
   "metadata": {},
   "outputs": [],
   "source": [
    "georgian_data = dict()\n",
    "italian_data = dict()"
   ]
  },
  {
   "cell_type": "code",
   "execution_count": null,
   "id": "caa245c3-1931-4918-8b85-bd2685ed3eec",
   "metadata": {},
   "outputs": [],
   "source": [
    "georgian_data = data_collection('https://irecommend.ru/catalog/list/9700-9985-23777')"
   ]
  },
  {
   "cell_type": "code",
   "execution_count": null,
   "id": "57ca7cda-c871-48e4-b25a-26a4213edc38",
   "metadata": {},
   "outputs": [],
   "source": [
    "italian_data = data_collection('https://irecommend.ru/catalog/list/9700-9985-11335')"
   ]
  },
  {
   "cell_type": "code",
   "execution_count": null,
   "id": "31d26bc7-dc35-4c9a-881f-9acf0e9391f2",
   "metadata": {},
   "outputs": [],
   "source": [
    "df_italian = pd.DataFrame(italian_data)\n",
    "df_georgian = pd.DataFrame(georgian_data)"
   ]
  },
  {
   "cell_type": "code",
   "execution_count": null,
   "id": "b3eea521-8bbd-4e8b-9e1e-727c173ad5bb",
   "metadata": {},
   "outputs": [],
   "source": [
    "df_italian"
   ]
  },
  {
   "cell_type": "code",
   "execution_count": null,
   "id": "fedfcb21-3a52-4952-84dc-8712f76d226d",
   "metadata": {},
   "outputs": [],
   "source": [
    "df_georgian"
   ]
  },
  {
   "cell_type": "markdown",
   "id": "c24d2204-c15b-49b4-a870-bf83fe5d98c9",
   "metadata": {},
   "source": [
    "## Очистка данных и подготовка к анализу"
   ]
  },
  {
   "cell_type": "markdown",
   "id": "03e52024-e95e-4ec0-830e-c721ddff1506",
   "metadata": {},
   "source": [
    "В данном разделе выполните все шаги, связанные с предобработкой:\n",
    "- приведение ваших данных к формату датафрейма (если это не было сделано выше)\n",
    "- разведочный анализ (EDA)\n",
    "\n",
    "Exploratory Data Analysis (EDA) - важный этап анализа данных, помогающий понять, с чем мы вообще имеем дело. [Пример выполнения разведанализа](https://www.kaggle.com/code/imoore/intro-to-exploratory-data-analysis-eda-in-python). Не копируйте все функции в лоб - на что именно стоит смотреть зависит от вашего исследования, однако точно стоит посмотреть на:\n",
    "- какие переменные (колонки) вообще есть\n",
    "- каких они типов\n",
    "- есть ли пропуски\n",
    "- как переменные распределены (если в этом есть смысл). Для по крайней мере начального анализа распределений и/или трендов в данных, возможно, есть смысл построить визуализации\n",
    "\n",
    "---\n",
    "\n",
    "Если хотите, можете попробовать вот [эту библиотеку](https://docs.profiling.ydata.ai/latest/) (полезна для EDA), но огромная просьба - не вставляйте куски кода с ней в конечный отчёт, ибо запуска процесса профилирования может быть довольно долгим, а на больших датасетах это может приводить к довольно тяжелым ноутбукам. Если будете использовать вышеупомянутый `ydata-profiling`, делайте это в отдельном ноутбуке (назовите его `EDA.ipynb`), а в этом постарайтесь обойтись без него"
   ]
  },
  {
   "cell_type": "code",
   "execution_count": null,
   "id": "c168a32f-6bc5-44f8-a80d-c40291188895",
   "metadata": {},
   "outputs": [],
   "source": [
    "df_italian = df_italian.drop(range(112, 120)) \n",
    "# кол-во ресторанов грузинской и итальянской кухни должно быть одинаково, тк я их сравниваю"
   ]
  },
  {
   "cell_type": "code",
   "execution_count": null,
   "id": "319fcd7b-887f-46f5-8372-85704e903b0e",
   "metadata": {},
   "outputs": [],
   "source": [
    "df_georgian.shape "
   ]
  },
  {
   "cell_type": "code",
   "execution_count": null,
   "id": "dd8dcaae-6ecd-4269-9457-55c6edba8ea8",
   "metadata": {},
   "outputs": [],
   "source": [
    "df_italian.shape "
   ]
  },
  {
   "cell_type": "code",
   "execution_count": null,
   "id": "4d19b2e8-a9da-44bf-98c5-cc6aa40b3807",
   "metadata": {},
   "outputs": [],
   "source": [
    "df_georgian.dtypes \n",
    "# рейтинг сейчас-object, а разумнее, чтобы эта колонка была формата float"
   ]
  },
  {
   "cell_type": "code",
   "execution_count": null,
   "id": "43b3ea45-ce82-4bb3-b865-1e8c11071bae",
   "metadata": {},
   "outputs": [],
   "source": [
    "df_italian.dtypes\n",
    "# рейтинг сейчас-object, а разумнее, чтобы эта колонка была формата float"
   ]
  },
  {
   "cell_type": "code",
   "execution_count": null,
   "id": "f41d19e8-e81c-4a01-9e64-2a236c44a356",
   "metadata": {},
   "outputs": [],
   "source": [
    "df_georgian.isnull().sum() \n",
    "# нет неопределенных значений, все поля заполнены информацией"
   ]
  },
  {
   "cell_type": "code",
   "execution_count": null,
   "id": "eb87a55b-8c0c-4b18-acdb-704a6b9a09b8",
   "metadata": {},
   "outputs": [],
   "source": [
    "df_italian.isnull().sum() \n",
    "# нет неопределенных значений, все поля заполнены информацией"
   ]
  },
  {
   "cell_type": "code",
   "execution_count": null,
   "id": "e247f273-3670-4c05-9a5f-24584c4a77e9",
   "metadata": {},
   "outputs": [],
   "source": [
    "df_georgian.describe "
   ]
  },
  {
   "cell_type": "markdown",
   "id": "661ac490-5f0b-420b-825f-b8acfe01aa3d",
   "metadata": {},
   "source": [
    "Сейчас колонка 'рейтинг'-строка, поэтому мне следует удалить 'Среднее:' и преобразовать колонку в тип float. \n",
    "Также кроме названия в колоне name написано еще Санкт-Петербург/Россия. \n",
    "В этом нет смысла, тк я исследую г. Санкт-Петербург, Россия"
   ]
  },
  {
   "cell_type": "code",
   "execution_count": null,
   "id": "aec5c39e-e0cb-4b4f-9812-e18542c42422",
   "metadata": {},
   "outputs": [],
   "source": [
    "df_italian.describe "
   ]
  },
  {
   "cell_type": "markdown",
   "id": "8e0b57db-37f3-4b9a-9f2d-ddafbf72af06",
   "metadata": {},
   "source": [
    "Мне не нравится, что повторяется 'Среднее:  и Санкт-Петербург/ Россия(я и так анализирую тольго город СПб), уберу"
   ]
  },
  {
   "cell_type": "code",
   "execution_count": null,
   "id": "81578311-22fa-4fa1-a6ba-d0d6c2d7faf7",
   "metadata": {},
   "outputs": [],
   "source": [
    "df_georgian['rating'] = df_georgian['rating'].apply(lambda x: x.replace('Среднее: ', ''))"
   ]
  },
  {
   "cell_type": "code",
   "execution_count": null,
   "id": "1c9ba373-b430-433a-b270-2fefd77b077b",
   "metadata": {},
   "outputs": [],
   "source": [
    "df_georgian['rating'] = pd.to_numeric(df_georgian['rating'])  "
   ]
  },
  {
   "cell_type": "code",
   "execution_count": null,
   "id": "534ae304-3354-4c51-ae55-f2c658af4e7f",
   "metadata": {},
   "outputs": [],
   "source": [
    "df_georgian['name'] = df_georgian['name'].str.split(',', n=1, expand=True)[0]"
   ]
  },
  {
   "cell_type": "code",
   "execution_count": null,
   "id": "4f482d8a-aef2-408e-b42a-a17f361f3cbd",
   "metadata": {},
   "outputs": [],
   "source": [
    "df_georgian"
   ]
  },
  {
   "cell_type": "code",
   "execution_count": null,
   "id": "0fab9a1d-8034-466b-aeda-b8c8a9c1a7a0",
   "metadata": {},
   "outputs": [],
   "source": [
    "df_italian['rating'] = df_italian['rating'].apply(lambda x: x.replace('Среднее: ', ''))"
   ]
  },
  {
   "cell_type": "code",
   "execution_count": null,
   "id": "73401069-df3c-45f3-945e-b1560cdd410c",
   "metadata": {},
   "outputs": [],
   "source": [
    "df_italian['rating'] = pd.to_numeric(df_italian['rating']) "
   ]
  },
  {
   "cell_type": "code",
   "execution_count": null,
   "id": "9694fc3e-e280-4c38-94d2-cbf035feaa9d",
   "metadata": {},
   "outputs": [],
   "source": [
    "df_italian['name'] = df_italian['name'].str.split(',', n=1, expand=True)[0]"
   ]
  },
  {
   "cell_type": "code",
   "execution_count": null,
   "id": "bbcda2d7-457e-4ca4-b03a-da76a2e05647",
   "metadata": {},
   "outputs": [],
   "source": [
    "df_italian"
   ]
  },
  {
   "cell_type": "code",
   "execution_count": null,
   "id": "0bc7b49f-9772-461f-98dd-930717e1dc6f",
   "metadata": {},
   "outputs": [],
   "source": [
    "df_georgian.dtypes"
   ]
  },
  {
   "cell_type": "code",
   "execution_count": null,
   "id": "7240d4a8-2005-45f2-855f-9b2b2733e521",
   "metadata": {},
   "outputs": [],
   "source": [
    "df_italian.dtypes"
   ]
  },
  {
   "cell_type": "markdown",
   "id": "5d4cacbe-1f6c-43e0-b349-0341863dc7df",
   "metadata": {},
   "source": [
    "Теперь всё в порядке, можно записывать рестораны в эксель таблицы(сделаю 3 штуки: \n",
    "итальянские рестораны, грузинские рестораны и общую таблицу с обеими кухнями)"
   ]
  },
  {
   "cell_type": "code",
   "execution_count": null,
   "id": "dd2d728f-340a-4687-8e7e-045998700c83",
   "metadata": {},
   "outputs": [],
   "source": [
    "df_italian.to_excel(\"italian_new.xlsx\", index=False)"
   ]
  },
  {
   "cell_type": "code",
   "execution_count": null,
   "id": "9ec51bc1-f7e9-45b6-97db-7003ea8fe633",
   "metadata": {},
   "outputs": [],
   "source": [
    "df_georgian.to_excel(\"georgian_new.xlsx\", index=False)"
   ]
  },
  {
   "cell_type": "markdown",
   "id": "2a6d7c77-2e3d-4410-a068-5da8bd05f833",
   "metadata": {},
   "source": [
    "Структура таблицы:\n",
    "name-название ресторана\n",
    "rating-\n",
    "reviews-отзывы посетителей, только те, которые видны на главной странице с ресторанами\n",
    "likes-количество лайков за ресторан\n",
    "dislikes-количество дизлайков за ресторан\n",
    "\n",
    "Важное замечание: количество лайков+количество дизлайков=количеству отзывов на ресторан"
   ]
  },
  {
   "cell_type": "code",
   "execution_count": null,
   "id": "cd6c7d1a-8d40-4653-ad4a-4e4ee9563808",
   "metadata": {},
   "outputs": [],
   "source": [
    "df_georgian['cuisine'] = 'Грузинская'\n",
    "df_italian['cuisine'] = 'Итальянская'"
   ]
  },
  {
   "cell_type": "code",
   "execution_count": null,
   "id": "c3adf8e1-4d06-46d2-9a36-357ff4989b0b",
   "metadata": {},
   "outputs": [],
   "source": [
    "df_restaurants = pd.concat([df_georgian, df_italian], ignore_index=True)"
   ]
  },
  {
   "cell_type": "code",
   "execution_count": null,
   "id": "b5032460-53c1-4419-b569-430b212c8d18",
   "metadata": {},
   "outputs": [],
   "source": [
    "df_restaurants.to_excel('all_restaurants.xlsx', index=False)"
   ]
  },
  {
   "cell_type": "code",
   "execution_count": null,
   "id": "17b647be-f6c2-42e4-8c3f-f8bf4db9ee16",
   "metadata": {},
   "outputs": [],
   "source": [
    "df_restaurants"
   ]
  },
  {
   "cell_type": "markdown",
   "id": "415de5ad-3eb9-4de6-b63a-1080664d704e",
   "metadata": {},
   "source": [
    "## Анализ и визуализация"
   ]
  },
  {
   "cell_type": "markdown",
   "id": "ccc17b13-c396-48d3-8271-88104e143e70",
   "metadata": {},
   "source": [
    "Весь мыслительный процесс, связанный с аналитикой ваших данных, а также построения визуализаций поместите в данный раздел"
   ]
  },
  {
   "cell_type": "code",
   "execution_count": null,
   "id": "ab555ab7-c98f-42b6-b7d6-1a1c6051b7e8",
   "metadata": {},
   "outputs": [],
   "source": [
    "plt.hist(df_georgian['rating'], bins=25, color='blue', alpha=0.8)\n",
    "plt.xlabel('Оценка')\n",
    "plt.ylabel('Частота')\n",
    "plt.title('Распределение оценок грузинских ресторанов')\n",
    "plt.show()"
   ]
  },
  {
   "cell_type": "markdown",
   "id": "98565358-eb01-421b-8741-34037b60d375",
   "metadata": {},
   "source": [
    "По гистограмме видно, что больше всего оценок 5.0 у грузинских ресторанов. \n",
    "Посетители очень удовлетворены, но также есть и неудовлетворительные оценки, их меньше, но они тоже есть. \n",
    "Может быть, это связано с субъективными препочтениями гостей или с долгим ожиданием блюд "
   ]
  },
  {
   "cell_type": "code",
   "execution_count": null,
   "id": "df15a73a-47b8-4572-8117-674e97823346",
   "metadata": {},
   "outputs": [],
   "source": [
    "plt.hist(df_italian['rating'], bins=25, color='blue', alpha=0.8)\n",
    "plt.xlabel('Оценка')\n",
    "plt.ylabel('Частота')\n",
    "plt.title('Распределение оценок итальянских ресторанов')\n",
    "plt.show()"
   ]
  },
  {
   "cell_type": "code",
   "execution_count": null,
   "id": "121cda6c-47fc-4db2-983a-d26505f3337e",
   "metadata": {},
   "outputs": [],
   "source": [
    "Распределение оценок итальянских ресторанов более равномерное, чем у грузинских ресторанов. \n",
    "Разница в частоте между кол-вом оценок 5.0 и 2.0-3.5 незначительное. \n",
    "Это свидетельствует о разном впечатлении людей на итальянские рестораны "
   ]
  },
  {
   "cell_type": "code",
   "execution_count": null,
   "id": "4779de2c-fc60-426d-9416-62a464fc1a90",
   "metadata": {},
   "outputs": [],
   "source": [
    "statistics.median(df_italian['rating'])"
   ]
  },
  {
   "cell_type": "code",
   "execution_count": null,
   "id": "aa3a4c48-052c-463a-8ec6-059c78edecb9",
   "metadata": {},
   "outputs": [],
   "source": [
    "statistics.median(df_restaurants['rating'])"
   ]
  },
  {
   "cell_type": "code",
   "execution_count": null,
   "id": "4dd94242-a88d-4eb4-9732-6a7e9f190e00",
   "metadata": {},
   "outputs": [],
   "source": [
    "statistics.median(df_georgian['rating']) "
   ]
  },
  {
   "cell_type": "code",
   "execution_count": null,
   "id": "b0bda9ed-e17a-4959-a7a3-11d70ec4ca5e",
   "metadata": {},
   "outputs": [],
   "source": [
    "Сравнение медиан рейтинга ресторанов подтверждает вышесказанное. \n",
    "Большинство посетителей грузинских ресторанов остаются довольными(медиана равна 4.6, что практически близко к максимальной оценке),\n",
    "а посетители итальянской кухни не так высоко оценивают рестораны"
   ]
  },
  {
   "cell_type": "code",
   "execution_count": null,
   "id": "738a593d-dbbb-4cf7-8533-2a3db475aa44",
   "metadata": {},
   "outputs": [],
   "source": [
    "sns.boxplot(x='cuisine', y='rating', data=df_restaurants)\n",
    "plt.title('Сравнение рейтингов ресторанов (Box Plot)')\n",
    "plt.xlabel('Тип кухни')\n",
    "plt.ylabel('Рейтинг')\n",
    "plt.show()"
   ]
  },
  {
   "cell_type": "markdown",
   "id": "2d0871b1-7946-4ee6-8417-426ac1f5cfd7",
   "metadata": {},
   "source": [
    "График показывает, что медиана в грузинских ресторанах находится в верхней части boxplot. Большинство грузинских ресторанов имеют высокий рейтинг.\n",
    "Часть грузинских ресторанов имеет очень низкие рейтинги.\n",
    "Медиана в итальянских ресторанах находится приблизительно посередине графика. Значит, большинство ресторанов с итальянской кухней имеют средний рейтинг, примерно около оценки 4.0. \n",
    "В рейтингах итальянских ресторанов разброс оценок меньше, чем в грузинских.\n",
    "Разница в оценках грузинской кухни и итальянской может быть вызвана тем, что грузинская зачастую ассоциируется с гостеприимством и большими порциями, а итальянская с изысканностью, высокими требованиями к продуктам"
   ]
  },
  {
   "cell_type": "code",
   "execution_count": null,
   "id": "0b0f8b30-c4ad-48c7-977d-994a5cda05ba",
   "metadata": {},
   "outputs": [],
   "source": [
    "#на графике - 10 ресторанов грузинской кухни с наивысшим кол-ом лайков\n",
    "sns.set_style(\"darkgrid\", {'axes.facecolor': '#f0f0f0', 'grid.color': 'white'})\n",
    "df_georgian = df_georgian.sort_values('likes', ascending=False)\n",
    "df_georgian_top10 = df_georgian.head(10)\n",
    "sns.barplot(x='likes', y='name', data=df_georgian_top10, palette='hls', hue='name') \n",
    "plt.xlabel('Количество лайков')\n",
    "plt.ylabel('Ресторан')\n",
    "plt.title('Топ 10 грузинских ресторанов по количеству лайков')\n",
    "plt.show()"
   ]
  },
  {
   "cell_type": "code",
   "execution_count": null,
   "id": "3edb6270-f121-4cd9-928d-1aaa9a5fe8f8",
   "metadata": {},
   "outputs": [],
   "source": [
    "#на графике - 10 ресторанов итальянской кухни с наивысшим кол-ом лайков\n",
    "df_italian = df_italian.sort_values('likes', ascending=False)\n",
    "df_italian_top10 = df_italian.head(10)\n",
    "sns.barplot(x='likes', y='name', data=df_italian_top10, palette='hls', hue='name') \n",
    "plt.xlabel('Количество лайков')\n",
    "plt.ylabel('Ресторан')\n",
    "plt.title('Топ 10 итальянских ресторанов по количеству лайков')\n",
    "plt.show()"
   ]
  },
  {
   "cell_type": "code",
   "execution_count": null,
   "id": "eaebbc54-c1ca-48d0-a427-aebbcffb3ea3",
   "metadata": {},
   "outputs": [],
   "source": [
    "sns.scatterplot(x='likes', y='rating', data=df_italian)\n",
    "plt.title('Зависимость между количеством лайков и рейтингом в итальянских ресторанах')\n",
    "plt.xlabel('Количество лайков')\n",
    "plt.ylabel('Рейтинг')\n",
    "plt.show()"
   ]
  },
  {
   "cell_type": "markdown",
   "id": "b9a62ebb-636b-44fc-90d9-0bbbbd24a4c0",
   "metadata": {},
   "source": [
    "По графику видно, что связь нелинейная. Буду использовать корреляцию Спирмена, \n",
    "чтобы установить, есть ли связь между кол-вом лайков и рейтингом в итальянских ресторанах"
   ]
  },
  {
   "cell_type": "code",
   "execution_count": null,
   "id": "9329ed7d-b951-400f-9128-2267f5293d74",
   "metadata": {},
   "outputs": [],
   "source": [
    "corr_italian, p_value_italian = spearmanr(df_italian['likes'], df_italian['rating'])"
   ]
  },
  {
   "cell_type": "code",
   "execution_count": null,
   "id": "cac96da3-db5a-41a1-9b14-fd90bafd14ed",
   "metadata": {},
   "outputs": [],
   "source": [
    "corr_italian"
   ]
  },
  {
   "cell_type": "code",
   "execution_count": null,
   "id": "f45101bc-9828-4939-afbe-8047082702c4",
   "metadata": {},
   "outputs": [],
   "source": [
    "p_value_italian"
   ]
  },
  {
   "cell_type": "markdown",
   "id": "d5990af9-eff2-4cef-b9fb-24459cdb1e59",
   "metadata": {},
   "source": [
    "Корреляция равна 0.04210725706337952. Это свидетельствует о том, что связь очень слабая или ее вообще нет. \n",
    "P-value равно 0.6593449469433088, то есть может утверждать: количество лайков практически не влияет на рейтинг ресторанов (или наоборот)"
   ]
  },
  {
   "cell_type": "code",
   "execution_count": null,
   "id": "edbe3aba-16ed-48dd-b2aa-ee3b9bcdaf7b",
   "metadata": {},
   "outputs": [],
   "source": [
    "sns.scatterplot(x='likes', y='rating', data=df_georgian)\n",
    "plt.title('Зависимость между количеством лайков и рейтингом в грузинских ресторанах')\n",
    "plt.xlabel('Количество лайков')\n",
    "plt.ylabel('Рейтинг')\n",
    "plt.show()"
   ]
  },
  {
   "cell_type": "code",
   "execution_count": null,
   "id": "19807948-3940-46d3-ba56-31e6330c3199",
   "metadata": {},
   "outputs": [],
   "source": [
    "corr_georgian, p_value_georgian = spearmanr(df_georgian['likes'], df_georgian['rating'])"
   ]
  },
  {
   "cell_type": "code",
   "execution_count": null,
   "id": "51b6c78f-694e-4e85-95ee-9092d98f81f9",
   "metadata": {},
   "outputs": [],
   "source": [
    "corr_georgian"
   ]
  },
  {
   "cell_type": "code",
   "execution_count": null,
   "id": "3a33eb45-9f34-4bb9-94df-d995cfe04ee2",
   "metadata": {},
   "outputs": [],
   "source": [
    "p_value_georgian"
   ]
  },
  {
   "cell_type": "markdown",
   "id": "97aa08e5-3f96-4564-a2b4-2f50c1a2a106",
   "metadata": {},
   "source": [
    "По графику видно,что данные распределены неравномерно\n",
    "Наблюдается слабая отрицательная связь(корреляция равна -0.18051482694993368)\n",
    "Также связь не является статистически значимой(p_value= 0.056827469403604995,однако \n",
    "наблюдаются слабые признаки возможной зависимости, которые могли оказаться случайностью)"
   ]
  },
  {
   "cell_type": "code",
   "execution_count": null,
   "id": "ffe351a0-d2aa-4e71-82c6-1030e8a56087",
   "metadata": {},
   "outputs": [],
   "source": [
    "#Проделаем аналогичные операции для установления связи между кол-вом дизлайков и рейтингом\n",
    "sns.scatterplot(x='dislikes', y='rating', data=df_georgian)\n",
    "plt.title('Зависимость между количеством дизлайков и рейтингом в грузинских ресторанах')\n",
    "plt.xlabel('Количество лайков')\n",
    "plt.ylabel('Рейтинг')\n",
    "plt.show()"
   ]
  },
  {
   "cell_type": "code",
   "execution_count": null,
   "id": "25dcf60c-eff0-4a3d-bd23-a58604bca101",
   "metadata": {},
   "outputs": [],
   "source": [
    "corr_georgian_dis, p_value_georgian_dis = spearmanr(df_georgian['dislikes'], df_georgian['rating'])"
   ]
  },
  {
   "cell_type": "code",
   "execution_count": null,
   "id": "5cf773fe-8810-46dc-b3a3-4f1b2958f64c",
   "metadata": {},
   "outputs": [],
   "source": [
    "corr_georgian_dis"
   ]
  },
  {
   "cell_type": "code",
   "execution_count": null,
   "id": "7029933c-6966-42a0-a400-b5875dcacb11",
   "metadata": {},
   "outputs": [],
   "source": [
    "p_value_georgian_dis"
   ]
  },
  {
   "cell_type": "code",
   "execution_count": null,
   "id": "d3f27566-b2b4-4ab5-80f8-0423cf0cc1a3",
   "metadata": {},
   "outputs": [],
   "source": [
    "sns.scatterplot(x='dislikes', y='rating', data=df_italian)\n",
    "plt.title('Зависимость между количеством дизлайков и рейтингом в итальянских ресторанах')\n",
    "plt.xlabel('Количество лайков')\n",
    "plt.ylabel('Рейтинг')\n",
    "plt.show()"
   ]
  },
  {
   "cell_type": "markdown",
   "id": "d9313942-7779-4b27-ae74-cce1338eec72",
   "metadata": {},
   "source": [
    "На графике видно, что большое кол-во ресторанов имеют 0-25 дизлайков. \n",
    "Интересно, что они имеют как низкий, так и высокий рейтинг"
   ]
  },
  {
   "cell_type": "code",
   "execution_count": null,
   "id": "c3473a5c-6ec0-465b-a270-35a370d741ff",
   "metadata": {},
   "outputs": [],
   "source": [
    "corr_italian_dis, p_value_italian_dis = spearmanr(df_italian['dislikes'], df_italian['rating'])"
   ]
  },
  {
   "cell_type": "code",
   "execution_count": null,
   "id": "9b920df1-e41b-494e-b48b-5b326a0be67b",
   "metadata": {},
   "outputs": [],
   "source": [
    "corr_italian_dis"
   ]
  },
  {
   "cell_type": "code",
   "execution_count": null,
   "id": "b2606a86-43c8-44a7-8416-81256adf6a00",
   "metadata": {},
   "outputs": [],
   "source": [
    "p_value_italian_dis"
   ]
  },
  {
   "cell_type": "markdown",
   "id": "91eeedf3-4717-4123-b295-6759d2bf871f",
   "metadata": {},
   "source": [
    "По результатам двух графиков выше, можно утверждать:данные распределены неравномерно. \n",
    "По корреляции и p_value в грузинских и итальянских ресторанах не наблюдается связь между кол-вом дизлайков \n",
    "и рейтингом, связь не статистически значима"
   ]
  },
  {
   "cell_type": "code",
   "execution_count": null,
   "id": "c3da8c46-e87a-4e1d-9331-5652b58fb9ba",
   "metadata": {},
   "outputs": [],
   "source": [
    "text_georgian = ''\n",
    "text_georgian = ' '.join(df_georgian['reviews'].astype(str))"
   ]
  },
  {
   "cell_type": "code",
   "execution_count": null,
   "id": "3e850678-f1fa-42b9-8c54-54bcf233026a",
   "metadata": {},
   "outputs": [],
   "source": [
    "STOPWORDS_RU = get_stop_words('russian')\n",
    "wordcloud = WordCloud(\n",
    "    width=800,  \n",
    "    height=400, \n",
    "    background_color='white',  \n",
    "    stopwords=STOPWORDS_RU,  \n",
    "    max_words=200, \n",
    "    colormap='viridis',\n",
    "    collocations=False \n",
    ").generate(text_georgian)\n",
    "\n",
    "\n",
    "plt.figure(figsize=(12, 6)) \n",
    "plt.imshow(wordcloud, interpolation='bilinear')\n",
    "plt.axis(\"off\")  \n",
    "plt.savefig('wordcloud_georgian.png')\n",
    "plt.title('Облако слов из отзывов на грузинские рестораны')\n",
    "plt.show()"
   ]
  },
  {
   "cell_type": "code",
   "execution_count": null,
   "id": "4eec357d-536c-4978-990a-0d756ff9c0f2",
   "metadata": {},
   "outputs": [],
   "source": [
    "text_italian = ''\n",
    "text_italian = ' '.join(df_italian['reviews'].astype(str))"
   ]
  },
  {
   "cell_type": "code",
   "execution_count": null,
   "id": "a77e00c5-c17b-4a3b-ac12-f3089de4634d",
   "metadata": {},
   "outputs": [],
   "source": [
    "STOPWORDS_RU = get_stop_words('russian')\n",
    "wordcloud = WordCloud(\n",
    "    width=800,  \n",
    "    height=400, \n",
    "    background_color='white', \n",
    "    stopwords=STOPWORDS_RU,  \n",
    "    max_words=200,\n",
    "    colormap='viridis',  \n",
    "    collocations=False \n",
    ").generate(text_italian)\n",
    "\n",
    "plt.figure(figsize=(12, 6))  \n",
    "plt.imshow(wordcloud, interpolation='bilinear')\n",
    "plt.axis(\"off\")  \n",
    "plt.savefig('wordcloud_italian.png')\n",
    "\n",
    "plt.title('Облако слов из отзывов на итальянские рестораны')\n",
    "plt.show()"
   ]
  },
  {
   "cell_type": "markdown",
   "id": "2d0f24a7-a306-4f6b-ba0c-4a2b656ad5cb",
   "metadata": {},
   "source": [
    "Проанализировав облака слов, я заметила, что часто употребляются слова:\"интерьер\", \"атмосфера\", \"уютное\", \"обслуживание\". Кроме этого, много раз упоминаются\n",
    "слова: хинкали, хачапури(наверное, это одни из самых любимых блюд посетителей), вкусная.\n",
    "Наиболее часто встречющиеся слова в отзывах на итальяскую кухню: сервис, блюда, пицца, обслуживание, еда, вкусное, безумно. \n"
   ]
  },
  {
   "cell_type": "markdown",
   "id": "959bca5a-bc93-44ff-a973-a33b100d30d3",
   "metadata": {},
   "source": [
    "## Выводы "
   ]
  },
  {
   "cell_type": "markdown",
   "id": "3a2284ed-626d-49a3-9deb-392935e0bd31",
   "metadata": {},
   "source": [
    "Опишите в данном разделе, какие выводы вы можете сделать из вашей аналитики и визуализаций? (подробно)"
   ]
  },
  {
   "cell_type": "markdown",
   "id": "b6eec59c-47d3-45c9-9cda-2bac0764b538",
   "metadata": {},
   "source": [
    "1) Рестораны с высоким рейтингом максиум имеют около 5-10 лайков\n",
    "\n",
    "2) Анализ подтверждает мысль, что качество не равно популярность. Рестораны с высоким рейтингом могут иметь малое количество лайков\n",
    "\n",
    "3) Если у ресторанов лайков много, но сами они занимают в рейтинге не высокое место, \n",
    "то,скорее всего, маркетинг у таких заведений на высоком уровне. Быть может, они даже дают какие-то плюшки за оставленный отзыв. \n",
    "Замечание: в нашем случае кол-во лайков+ кол-во дизлайков = кол-во отзывов\n",
    "\n",
    "4) Итальянских ресторанов с большим кол-вом лайков больше чем грузинских\n",
    "\n",
    "5) Гистограмма рейтингов грузинских ресторанов смещена вправо (высокие оценки), у итальянских — более равномерное распределение.\n",
    "Грузинские рестораны по сравнению с итальянскими выделяются своим стабильным высоким качеством\n",
    "\n",
    "6) Вероятность того, что выбранное заведение грузинской кухни понравится больше,чем выбранное заведение итальянской кухни\n",
    "\n",
    "7) В своем проекте я представила топ-10 ресторанов по разным критериям(рейтинг, кол-во лайков/дизлайков), поэтому в следующий раз я пойду в ресторан из предложенного мною списка \n",
    "\n",
    "8) Говоря об анализе слов, я поняла, что акцент в отзывах на грузинские рестораны делается на\n",
    "обстановку и атмосферу, а в отзывах на итальяскую кухню на еду и эмоции\n"
   ]
  },
  {
   "cell_type": "markdown",
   "id": "efe8a978-a5ce-4254-9eac-1e9df846a2d5",
   "metadata": {},
   "source": [
    "## Обсуждение"
   ]
  },
  {
   "cell_type": "markdown",
   "id": "6740d148-2b55-4900-a8b7-94805e431a2d",
   "metadata": {},
   "source": [
    "В этом разделе опишите:\n",
    "- Что вы хотели сделать в рамках вашего исследования и что сделать удалось\n",
    "- Что сделать не удалось и почему\n",
    "- Как ваше исследование можно было бы улучшить\n",
    "- Кому ваше исследование может быть полезно (или что можно сделать дополнительно, чтобы оно было полезным)\n",
    "\n",
    "Вам не обязательно ставить планку научных работ. Например, если ваш датасет содержит информацию о 100 рецептов борща, а ваше исследование направлено на нахождение самого лучшего с точки зрения состава и пользовательских оценок, то оно банально может быть полезно людям, которые пытаются найти золотую середину в готовке этого самого борща (а если логику вашего исследования повторить с условными тефтелями, то оно ещё и переносимо на другие кейсы!)"
   ]
  },
  {
   "cell_type": "markdown",
   "id": "6a8b0244-8624-4252-8c46-3614da94fbd7",
   "metadata": {},
   "source": [
    "В рамках моего исследования я хотела сравнить грузинские и итальянские рестораны, найти какие-то закономерности, \n",
    "а также выявить топ-10 ресторанов по различным критериям. Это удалось сделать.\n",
    "\n",
    "Изначально я планировала брать данные с сайта Tripadvisor, однако меня он постоянно блокировал, а API у него платный. \n",
    "В Tripadvisor, конечно, больше информации о ресторанах, например, о ценовом сегменте. Еще там намного больше представлено отзывов.\n",
    "В будущем хотелось бы собрать больше информации о ресторанах с сайтов, которые предоставляют такую информацию. (Irecommend в этом плане немного скудный). Также можно в будущем анализировать отзывы не только которые отображаются на главной странице, но и те, которые видны при переходе на вкладку 'Читать все отзывы'.\n",
    "\n",
    "Мое исследование может быть полезно маркетологам ресторанов для разработки стратегии продвижения по привлечению новых клиентов, они могут увидеть рейтинг своего ресторана относительно других. Быть может, шеф-повара, благодаря облаку слов, смогут проанализировать часто встречащиеся блюда и сформировать меню в соответствии с результатами. Логику моего исследования можно повторить с любыми ресторанами сайта, других сайтов с ресторанами. Поменяв названия колонок, адаптиров их под новую тему, можно анализировать развлечения, отели и так далее.\n"
   ]
  }
 ],
 "metadata": {
  "kernelspec": {
   "display_name": "Python 3 (ipykernel)",
   "language": "python",
   "name": "python3"
  },
  "language_info": {
   "codemirror_mode": {
    "name": "ipython",
    "version": 3
   },
   "file_extension": ".py",
   "mimetype": "text/x-python",
   "name": "python",
   "nbconvert_exporter": "python",
   "pygments_lexer": "ipython3",
   "version": "3.9.6"
  }
 },
 "nbformat": 4,
 "nbformat_minor": 5
}
